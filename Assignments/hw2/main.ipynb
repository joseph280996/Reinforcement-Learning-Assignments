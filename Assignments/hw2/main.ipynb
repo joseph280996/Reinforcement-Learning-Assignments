{
 "cells": [
  {
   "cell_type": "markdown",
   "id": "24b95334",
   "metadata": {},
   "source": [
    "# Importing required packages"
   ]
  },
  {
   "cell_type": "code",
   "execution_count": 1,
   "id": "137120e0",
   "metadata": {
    "lines_to_next_cell": 0
   },
   "outputs": [],
   "source": [
    "# Import necessary libraries\n",
    "import numpy as np\n",
    "import matplotlib.pyplot as plt\n",
    "from typing import List, Tuple"
   ]
  },
  {
   "cell_type": "code",
   "execution_count": 2,
   "id": "96a75296",
   "metadata": {
    "lines_to_next_cell": 0
   },
   "outputs": [],
   "source": [
    "from models.environment import Environment\n",
    "from models.policy import Policy\n",
    "from models.train import MonteCarloTrainer\n",
    "from models.visualizer import Visualizer\n"
   ]
  },
  {
   "cell_type": "markdown",
   "id": "4edee9ed",
   "metadata": {
    "lines_to_next_cell": 0
   },
   "source": [
    "# Defining the tracks"
   ]
  },
  {
   "cell_type": "code",
   "execution_count": 3,
   "id": "bf8a3246",
   "metadata": {},
   "outputs": [],
   "source": [
    "COMPACT_TRACK = np.array([\n",
    "    [1, 1, 1, 1, 1, 1, 1, 0, 0, 2],\n",
    "    [1, 1, 1, 1, 1, 1, 0, 0, 0, 2],\n",
    "    [1, 1, 1, 1, 1, 0, 0, 0, 0, 2],\n",
    "    [1, 1, 1, 1, 0, 0, 0, 0, 0, 2],\n",
    "    [1, 1, 1, 0, 0, 0, 0, 0, 0, 2],\n",
    "    [1, 0, 0, 0, 0, 0, 1, 1, 1, 1],\n",
    "    [1, 0, 0, 0, 0, 1, 1, 1, 1, 1],\n",
    "    [1, 0, 0, 0, 1, 1, 1, 1, 1, 1],\n",
    "    [1, 0, 0, 0, 0, 1, 1, 1, 1, 1],\n",
    "    [1, 3, 3, 3, 3, 1, 1, 1, 1, 1]\n",
    "])"
   ]
  },
  {
   "cell_type": "markdown",
   "id": "7e9c26c8",
   "metadata": {},
   "source": [
    "# Run the training and simulation"
   ]
  },
  {
   "cell_type": "code",
   "execution_count": 4,
   "id": "34a9cbbe",
   "metadata": {},
   "outputs": [
    {
     "name": "stdout",
     "output_type": "stream",
     "text": [
      "Training the policy...\n"
     ]
    },
    {
     "ename": "ZeroDivisionError",
     "evalue": "division by zero",
     "output_type": "error",
     "traceback": [
      "\u001b[0;31m---------------------------------------------------------------------------\u001b[0m",
      "\u001b[0;31mZeroDivisionError\u001b[0m                         Traceback (most recent call last)",
      "Cell \u001b[0;32mIn[4], line 9\u001b[0m\n\u001b[1;32m      7\u001b[0m \u001b[38;5;28;01mfor\u001b[39;00m num_episodes \u001b[38;5;129;01min\u001b[39;00m \u001b[38;5;28mrange\u001b[39m(\u001b[38;5;241m0\u001b[39m, \u001b[38;5;241m500\u001b[39m, \u001b[38;5;241m1\u001b[39m):\n\u001b[1;32m      8\u001b[0m     trainer\u001b[38;5;241m.\u001b[39mtrain(num_episodes\u001b[38;5;241m=\u001b[39mnum_episodes)\n\u001b[0;32m----> 9\u001b[0m     average_returns\u001b[38;5;241m.\u001b[39mappend(\u001b[43mtrainer\u001b[49m\u001b[38;5;241;43m.\u001b[39;49m\u001b[43mtotal_returns\u001b[49m\u001b[38;5;241;43m/\u001b[39;49m\u001b[43mnum_episodes\u001b[49m)\n\u001b[1;32m     10\u001b[0m \u001b[38;5;28mprint\u001b[39m(\u001b[38;5;124m\"\u001b[39m\u001b[38;5;124mTraining complete!\u001b[39m\u001b[38;5;124m\"\u001b[39m)\n",
      "\u001b[0;31mZeroDivisionError\u001b[0m: division by zero"
     ]
    }
   ],
   "source": [
    "# Create trainer (which creates the environment and policy)\n",
    "trainer = MonteCarloTrainer(COMPACT_TRACK)\n",
    "\n",
    "# Train the policy\n",
    "print(\"Training the policy...\")\n",
    "average_returns = []\n",
    "for num_episodes in range(1, 500, 1):\n",
    "    trainer.train(num_episodes=num_episodes)\n",
    "    average_returns.append(trainer.total_returns/num_episodes)\n",
    "print(\"Training complete!\")"
   ]
  },
  {
   "cell_type": "markdown",
   "id": "bb8a5e77",
   "metadata": {
    "lines_to_next_cell": 0
   },
   "source": [
    "# Plot the Average returns over episodes over number of episodes used."
   ]
  },
  {
   "cell_type": "code",
   "execution_count": null,
   "id": "d105490a",
   "metadata": {},
   "outputs": [],
   "source": [
    "plt.figure(figsize=(12, 6))\n",
    "plt.plot(range(0, 500, 1), average_returns, label='Cumulative Average Return')\n",
    "plt.xlabel('Episode')\n",
    "plt.ylabel('Average Return')\n",
    "plt.title('Average Return vs Number of Episodes')\n",
    "plt.legend()\n",
    "plt.grid(True)\n",
    "plt.show()"
   ]
  },
  {
   "cell_type": "markdown",
   "id": "e904f519",
   "metadata": {},
   "source": []
  }
 ],
 "metadata": {
  "kernelspec": {
   "display_name": "cs138_env",
   "language": "python",
   "name": "python3"
  },
  "language_info": {
   "codemirror_mode": {
    "name": "ipython",
    "version": 3
   },
   "file_extension": ".py",
   "mimetype": "text/x-python",
   "name": "python",
   "nbconvert_exporter": "python",
   "pygments_lexer": "ipython3",
   "version": "3.10.13"
  }
 },
 "nbformat": 4,
 "nbformat_minor": 5
}
