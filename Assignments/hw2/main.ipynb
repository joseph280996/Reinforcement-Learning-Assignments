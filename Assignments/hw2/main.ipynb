{
 "cells": [
  {
   "cell_type": "markdown",
   "id": "24b95334",
   "metadata": {},
   "source": [
    "# Importing required packages"
   ]
  },
  {
   "cell_type": "code",
   "execution_count": 1,
   "id": "137120e0",
   "metadata": {
    "lines_to_next_cell": 0
   },
   "outputs": [],
   "source": [
    "# Import necessary libraries\n",
    "import numpy as np\n",
    "import matplotlib.pyplot as plt\n",
    "import time\n",
    "from tqdm import tqdm\n",
    "from collections import defaultdict"
   ]
  },
  {
   "cell_type": "code",
   "execution_count": 8,
   "id": "96a75296",
   "metadata": {
    "lines_to_next_cell": 0
   },
   "outputs": [],
   "source": [
    "import models.environment as env\n",
    "import models.policy as policy\n",
    "import models.train as train"
   ]
  },
  {
   "cell_type": "markdown",
   "id": "4edee9ed",
   "metadata": {
    "lines_to_next_cell": 0
   },
   "source": [
    "# Defining the tracks"
   ]
  },
  {
   "cell_type": "code",
   "execution_count": 9,
   "id": "bf8a3246",
   "metadata": {},
   "outputs": [],
   "source": [
    "COMPACT_TRACK = np.array([\n",
    "    [1, 1, 1, 1, 1, 1, 1, 0, 0, 2],\n",
    "    [1, 1, 1, 1, 1, 1, 0, 0, 0, 2],\n",
    "    [1, 1, 1, 1, 1, 0, 0, 0, 0, 2],\n",
    "    [1, 1, 1, 1, 0, 0, 0, 0, 0, 2],\n",
    "    [1, 1, 1, 0, 0, 0, 0, 0, 0, 2],\n",
    "    [1, 0, 0, 0, 0, 0, 1, 1, 1, 1],\n",
    "    [1, 0, 0, 0, 0, 1, 1, 1, 1, 1],\n",
    "    [1, 0, 0, 0, 1, 1, 1, 1, 1, 1],\n",
    "    [1, 0, 0, 0, 0, 1, 1, 1, 1, 1],\n",
    "    [1, 3, 3, 3, 3, 1, 1, 1, 1, 1]\n",
    "])"
   ]
  },
  {
   "cell_type": "markdown",
   "id": "7e9c26c8",
   "metadata": {},
   "source": [
    "# Run the training and simulation"
   ]
  },
  {
   "cell_type": "code",
   "execution_count": null,
   "id": "9a996f70",
   "metadata": {},
   "outputs": [],
   "source": [
    "# Setup and training\n",
    "env = env.RacetrackEnvironment(COMPACT_TRACK)\n",
    "policy = policy.Policy()\n",
    "trainer = train.MonteCarloTrainer(env, policy)\n",
    "\n",
    "num_episodes = 100000\n",
    "trainer.train(num_episodes)\n",
    "\n",
    "# Function to simulate and visualize a trajectory\n",
    "def simulate_trajectory(environment, policy, start_pos):\n",
    "    state = (start_pos, (0, 0))\n",
    "    trajectory = [state[0]]\n",
    "    done = False\n",
    "\n",
    "    while not done:\n",
    "        action = policy.get_action(state)\n",
    "        next_state, _, done = environment.take_action(state, action)\n",
    "        trajectory.append(next_state[0])\n",
    "        state = next_state\n",
    "\n",
    "    return trajectory"
   ]
  },
  {
   "cell_type": "markdown",
   "id": "bb8a5e77",
   "metadata": {
    "lines_to_next_cell": 0
   },
   "source": [
    "# Plot the simulation"
   ]
  },
  {
   "cell_type": "code",
   "execution_count": null,
   "id": "7919b598",
   "metadata": {
    "lines_to_next_cell": 0
   },
   "outputs": [],
   "source": [
    "# Visualize the track and some trajectories\n",
    "import matplotlib.pyplot as plt\n",
    "\n",
    "plt.figure(figsize=(10, 10))\n",
    "plt.imshow(COMPACT_TRACK, cmap='binary')\n",
    "plt.title(\"S-Curve Compact Racetrack with Optimal Trajectories\")\n",
    "\n",
    "colors = ['r', 'g', 'b', 'y', 'm']\n",
    "for i, start_pos in enumerate(env.start_line[:5]):  # Plot up to 5 trajectories\n",
    "    trajectory = simulate_trajectory(env, policy, start_pos)\n",
    "    xs, ys = zip(*trajectory)\n",
    "    plt.plot(ys, xs, color=colors[i], linewidth=2, label=f\"Trajectory {i+1}\")\n",
    "\n",
    "plt.legend()\n",
    "plt.show()"
   ]
  },
  {
   "cell_type": "markdown",
   "id": "e904f519",
   "metadata": {},
   "source": []
  }
 ],
 "metadata": {
  "kernelspec": {
   "display_name": "cs138_env",
   "language": "python",
   "name": "python3"
  },
  "language_info": {
   "codemirror_mode": {
    "name": "ipython",
    "version": 3
   },
   "file_extension": ".py",
   "mimetype": "text/x-python",
   "name": "python",
   "nbconvert_exporter": "python",
   "pygments_lexer": "ipython3",
   "version": "3.10.13"
  }
 },
 "nbformat": 4,
 "nbformat_minor": 5
}
